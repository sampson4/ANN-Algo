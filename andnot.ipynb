{
 "cells": [
  {
   "cell_type": "code",
   "execution_count": 3,
   "metadata": {},
   "outputs": [],
   "source": [
    "import numpy as np"
   ]
  },
  {
   "cell_type": "code",
   "execution_count": 4,
   "metadata": {},
   "outputs": [],
   "source": [
    "# Define the input and target data (using bipolar inputs and targets)\n",
    "X = np.array([[-1,-1], [-1,1], [1,-1], [1,1]])\n",
    "Y = np.array([-1, -1, 1, -1])"
   ]
  },
  {
   "cell_type": "code",
   "execution_count": 5,
   "metadata": {},
   "outputs": [],
   "source": [
    "# Define the ANDNOT function using boolean expressions\n",
    "def andnot(input1, input2):\n",
    "    return (input1 == 1 and input2 == 0)"
   ]
  },
  {
   "cell_type": "code",
   "execution_count": 6,
   "metadata": {},
   "outputs": [],
   "source": [
    "# Define the Adalene class\n",
    "class Adalene:\n",
    "    def __init__(self,  initial_weight, input_size, learning_rate, bias):\n",
    "        self.weights = np.full(input_size, initial_weight)\n",
    "        self.bias = bias\n",
    "        self.lr = learning_rate\n",
    "        \n",
    "    def predict(self, X):\n",
    "        return np.sign(np.dot(X, self.weights) + self.bias)\n",
    "    \n",
    "    def train(self, X, Y, epochs):\n",
    "        for i in range(epochs):\n",
    "            for j in range(X.shape[0]):\n",
    "                y_pred = self.predict(X[j])\n",
    "                error = Y[j] - y_pred\n",
    "                self.weights += self.lr * error * X[j]\n",
    "                self.bias += self.lr * error"
   ]
  },
  {
   "cell_type": "code",
   "execution_count": 7,
   "metadata": {},
   "outputs": [],
   "source": [
    "# Test the Adalene algorithm on the ANDNOT gate\n",
    "adalene = Adalene(initial_weight=0.2, input_size=2, learning_rate=0.2, bias=0.2)\n",
    "adalene.train(X, Y, epochs=2)"
   ]
  },
  {
   "cell_type": "code",
   "execution_count": 8,
   "metadata": {},
   "outputs": [
    {
     "name": "stdout",
     "output_type": "stream",
     "text": [
      "-1.0\n",
      "-1.0\n",
      "1.0\n",
      "1.0\n"
     ]
    }
   ],
   "source": [
    "# Test the trained model on some new inputs\n",
    "print(adalene.predict(np.array([-1, -1])))\n",
    "print(adalene.predict(np.array([-1, 1])))\n",
    "print(adalene.predict(np.array([1, -1])))\n",
    "print(adalene.predict(np.array([1, -1])))"
   ]
  }
 ],
 "metadata": {
  "kernelspec": {
   "display_name": "Python 3",
   "language": "python",
   "name": "python3"
  },
  "language_info": {
   "codemirror_mode": {
    "name": "ipython",
    "version": 3
   },
   "file_extension": ".py",
   "mimetype": "text/x-python",
   "name": "python",
   "nbconvert_exporter": "python",
   "pygments_lexer": "ipython3",
   "version": "3.9.6"
  },
  "orig_nbformat": 4
 },
 "nbformat": 4,
 "nbformat_minor": 2
}
